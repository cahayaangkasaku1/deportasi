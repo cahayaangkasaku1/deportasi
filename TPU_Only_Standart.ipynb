{
  "nbformat": 4,
  "nbformat_minor": 0,
  "metadata": {
    "colab": {
      "provenance": [],
      "gpuType": "V28"
    },
    "kernelspec": {
      "name": "python3",
      "display_name": "Python 3"
    },
    "language_info": {
      "name": "python"
    },
    "accelerator": "TPU"
  },
  "cells": [
    {
      "cell_type": "code",
      "source": [
        "! nproc --all"
      ],
      "metadata": {
        "id": "6hJXhnwJetFa"
      },
      "execution_count": null,
      "outputs": []
    }
  ]
}